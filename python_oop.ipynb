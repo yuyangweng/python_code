{
 "cells": [
  {
   "cell_type": "markdown",
   "metadata": {},
   "source": [
    "# Python OOP程式設計"
   ]
  },
  {
   "cell_type": "markdown",
   "metadata": {},
   "source": [
    "# Class"
   ]
  },
  {
   "cell_type": "code",
   "execution_count": 1,
   "metadata": {
    "scrolled": false
   },
   "outputs": [
    {
     "name": "stdout",
     "output_type": "stream",
     "text": [
      "Myclass created\n",
      "Name: Joseph\n",
      "-1\n",
      "1\n",
      "Name: ittraining\n",
      "-1\n",
      "2\n"
     ]
    }
   ],
   "source": [
    "# class \n",
    "\n",
    "class Myclass:\n",
    "    '''\n",
    "      This is my first class\n",
    "    '''   \n",
    "    x=0    # class attribute; class variable\n",
    "    y=-1\n",
    "    print('Myclass created')\n",
    "    def __init__ (self, name):\n",
    "        #print(self)\n",
    "        self.name = name  #use self to define a object atriabute\n",
    "        self.y=Myclass.y  \n",
    "        #x += 1   #error! 'x' referenced before assignment\n",
    "        Myclass.x += 1\n",
    "\n",
    "    def show(self):\n",
    "        print('Name:',self.name)\n",
    "        #print(Myclass.x)\n",
    "        print(self.y)\n",
    "        #print(Myclass.y)\n",
    "        print(Myclass.x)\n",
    "    def BMI(self):\n",
    "        pass\n",
    "        \n",
    "\n",
    "b = Myclass(\"Joseph\")\n",
    "b.show()\n",
    "\n",
    "My=Myclass   # set alternative class name \n",
    "c=My(\"ittraining\")\n",
    "c.show()\n",
    "c.BMI()\n",
    "\n"
   ]
  },
  {
   "cell_type": "code",
   "execution_count": 2,
   "metadata": {},
   "outputs": [
    {
     "data": {
      "text/plain": [
       "'Joseph'"
      ]
     },
     "execution_count": 2,
     "metadata": {},
     "output_type": "execute_result"
    }
   ],
   "source": [
    "b.name"
   ]
  },
  {
   "cell_type": "markdown",
   "metadata": {},
   "source": [
    "## class inheritance "
   ]
  },
  {
   "cell_type": "code",
   "execution_count": 3,
   "metadata": {},
   "outputs": [
    {
     "name": "stdout",
     "output_type": "stream",
     "text": [
      "MySubclass created\n",
      "Name:david,Height:180,Weight:80\n",
      "BMI: 24.69\n",
      "Name:joseph,Height:175,Weight:73\n",
      "BMI: 23.84\n"
     ]
    }
   ],
   "source": [
    "# class inheritance \n",
    "\n",
    "class MySubclass(Myclass):\n",
    "    '''\n",
    "      This is my first Subclass\n",
    "      \n",
    "    '''\n",
    "    \n",
    "    print('MySubclass created')\n",
    "    def __init__ (self, name,height,weight):\n",
    "        \n",
    "        super().__init__(name)   #supber() to get the parent class\n",
    "        self.height=height  #new attribute\n",
    "        self.weight=weight  #new attribute\n",
    "        #print(MySubclass.x) #same as Myclass.x\n",
    "\n",
    "    def show(self):              # override the show() method in praenet class\n",
    "        #super().show()   #call parent show()\n",
    "        print(\"Name:{0},Height:{1},Weight:{2}\".format(self.name,self.height,self.weight))\n",
    "    \n",
    "    # BMI = 體重(公斤) / 身高^2(公尺^2)\n",
    "    def BMI(self):       #function overrid \n",
    "       \n",
    "        print('BMI:',round(self.weight/((self.height/100)**2),2))\n",
    "\n",
    "\n",
    "\n",
    "MySub=MySubclass   # set alternative class name \n",
    "c=MySub(\"david\",180,80)\n",
    "c.show()\n",
    "c.BMI()\n",
    "\n",
    "d=MySub(\"joseph\",175,73)\n",
    "d.show()\n",
    "d.BMI()\n"
   ]
  },
  {
   "cell_type": "markdown",
   "metadata": {},
   "source": [
    "## private attribute & method"
   ]
  },
  {
   "cell_type": "code",
   "execution_count": 4,
   "metadata": {},
   "outputs": [
    {
     "name": "stdout",
     "output_type": "stream",
     "text": [
      "Name: Test\n",
      "-1\n",
      "5\n",
      "Test\n"
     ]
    }
   ],
   "source": [
    "a = Myclass(\"Test\")\n",
    "a.show()\n",
    "print(a.name)"
   ]
  },
  {
   "cell_type": "code",
   "execution_count": 5,
   "metadata": {
    "scrolled": true
   },
   "outputs": [
    {
     "name": "stdout",
     "output_type": "stream",
     "text": [
      "a.j= 100\n",
      "a.getJ()= 100\n",
      "a.getI()= 1000\n",
      "Demo.y = 50\n",
      "Demo.x = 1\n",
      "a(i,j,Demo.x) = (100, 1000, 1)\n"
     ]
    }
   ],
   "source": [
    "# Private variable : __var\n",
    "# Private Method : __def xxx(self,...)\n",
    "class Demo:\n",
    "    __x = 0\n",
    "    y = 50\n",
    "    def __init__ (self, i):\n",
    "        self.j=100\n",
    "        self.__i = i\n",
    "        Demo.__x += 1\n",
    "    def getJ(self):\n",
    "        return self.j\n",
    "    def getI(self):\n",
    "        return self.__i\n",
    "    @classmethod\n",
    "    def getX(cls):   \n",
    "        return cls.__x\n",
    "    def __algo(self):  #private method   \n",
    "        return (self.getJ(),self.getI(),Demo.__x)  \n",
    "    def get(self):   #public method\n",
    "        return self.__algo()   \n",
    "  \n",
    "\n",
    "a = Demo(1000)\n",
    "\n",
    "#print(a.__get())\n",
    "#print('--------------')\n",
    "\n",
    "\n",
    "#---public instance variable--------------\n",
    "print(\"a.j=\",a.j)\n",
    "print(\"a.getJ()=\", a.getJ())\n",
    "\n",
    "#---private instance variable--------------\n",
    "#print(\"a.__i=\",a.__i)  #error: Object has no attribute '__x'\n",
    "print(\"a.getI()=\", a.getI())\n",
    "\n",
    "#---public Class variable--------------\n",
    "\n",
    "#print(\"Demo.x =\", Demo.__x) #error: Class has no attribute '__x'\n",
    "print(\"Demo.y =\", Demo.y)\n",
    "\n",
    "#---private Class variable--------------\n",
    "\n",
    "#print(\"Demo.x =\", Demo.__x) #error: Class has no attribute '__x'\n",
    "print(\"Demo.x =\", Demo.getX())\n",
    "\n",
    "#---private method--------------\n",
    "#print(\"a(i,j) =\", a.__get())  #error: Demo object has no attribute '__get'\n",
    "print(\"a(i,j,Demo.x) =\", a.get())\n",
    "\n",
    "\n"
   ]
  },
  {
   "cell_type": "markdown",
   "metadata": {},
   "source": [
    "## setter 和 getter"
   ]
  },
  {
   "cell_type": "code",
   "execution_count": 6,
   "metadata": {},
   "outputs": [],
   "source": [
    "class Vehicle:\n",
    "    def __init__(self, number_of_wheels, type_of_tank, seating_capacity, maximum_velocity):\n",
    "        self.__number_of_wheels= number_of_wheels\n",
    "        self.__type_of_tank = type_of_tank\n",
    "        self.__seating_capacity = seating_capacity\n",
    "        self.__maximum_velocity = maximum_velocity\n",
    "    \n",
    "    @property  #將函式(名稱和attribute同名)包裝成讀取某一類別的attribute/property \n",
    "    def number_of_wheels(self):\n",
    "        print('get number_of_wheels')\n",
    "        return self.__number_of_wheels\n",
    "    \n",
    "    @number_of_wheels.setter #將函式(名稱和attribute同名)包裝成寫入某一類別的attribute/property \n",
    "    def number_of_wheels(self, number):\n",
    "        print('set number_of_wheels')\n",
    "        self.__number_of_wheels = number+10\n",
    "        \n",
    "    def get_wheels(self):\n",
    "        print('get number_of_wheels123')\n",
    "        return self.__number_of_wheels\n",
    "    \n",
    "    def set_wheels(self,number):\n",
    "        print('set number_of_wheels123')\n",
    "        self.__number_of_wheels=number"
   ]
  },
  {
   "cell_type": "code",
   "execution_count": 7,
   "metadata": {},
   "outputs": [],
   "source": [
    "tesla_model_s = Vehicle(4, 'electric', 5, 250)\n"
   ]
  },
  {
   "cell_type": "code",
   "execution_count": 8,
   "metadata": {},
   "outputs": [
    {
     "name": "stdout",
     "output_type": "stream",
     "text": [
      "get number_of_wheels\n",
      "4\n"
     ]
    }
   ],
   "source": [
    "print(tesla_model_s.number_of_wheels) # 4"
   ]
  },
  {
   "cell_type": "code",
   "execution_count": 9,
   "metadata": {
    "scrolled": true
   },
   "outputs": [
    {
     "name": "stdout",
     "output_type": "stream",
     "text": [
      "get number_of_wheels123\n"
     ]
    },
    {
     "data": {
      "text/plain": [
       "4"
      ]
     },
     "execution_count": 9,
     "metadata": {},
     "output_type": "execute_result"
    }
   ],
   "source": [
    "tesla_model_s.get_wheels()"
   ]
  },
  {
   "cell_type": "code",
   "execution_count": 10,
   "metadata": {},
   "outputs": [
    {
     "name": "stdout",
     "output_type": "stream",
     "text": [
      "set number_of_wheels123\n"
     ]
    }
   ],
   "source": [
    "tesla_model_s.set_wheels(8)"
   ]
  },
  {
   "cell_type": "code",
   "execution_count": 11,
   "metadata": {},
   "outputs": [
    {
     "name": "stdout",
     "output_type": "stream",
     "text": [
      "get number_of_wheels\n",
      "4\n",
      "set number_of_wheels\n",
      "get number_of_wheels\n",
      "12\n"
     ]
    }
   ],
   "source": [
    "tesla_model_s = Vehicle(4, 'electric', 5, 250)\n",
    "print(tesla_model_s.number_of_wheels) # 4\n",
    "tesla_model_s.number_of_wheels = 2 # setting number of wheels to 2\n",
    "print(tesla_model_s.number_of_wheels) # 2"
   ]
  },
  {
   "cell_type": "markdown",
   "metadata": {},
   "source": [
    "## @staticmethod\n",
    "    We generally use static methods to create utility functions."
   ]
  },
  {
   "cell_type": "code",
   "execution_count": 12,
   "metadata": {},
   "outputs": [
    {
     "name": "stdout",
     "output_type": "stream",
     "text": [
      "Name: ittraining\n",
      "-1\n",
      "6\n",
      "175 75 24.489795918367346\n"
     ]
    },
    {
     "data": {
      "text/plain": [
       "124.99999999999997"
      ]
     },
     "execution_count": 12,
     "metadata": {},
     "output_type": "execute_result"
    }
   ],
   "source": [
    "# class--static method\n",
    "\n",
    "class MySubclass2(Myclass):\n",
    "    '''\n",
    "      This is my first Subclass\n",
    "    '''\n",
    "    def __init__ (self, name,height,weight):\n",
    "        super().__init__(name)   #supber() to get the parent class\n",
    "        self.height=height  #new attribute\n",
    "        self.weight=weight  #new attribute\n",
    "        \n",
    "    @staticmethod         \n",
    "    def bmi(h,w):    \n",
    "        return w/((h/100)**2)\n",
    "    \n",
    "    def show(self):      # override the show() method in praenet class\n",
    "        super().show()   #call parent show()\n",
    "        x=MySubclass2.bmi(self.height,self.weight)\n",
    "        print(self.height,self.weight,x)\n",
    "\n",
    "\n",
    "MySub2=MySubclass2   # set alternative class name \n",
    "c=MySub2(\"ittraining\",175,75)\n",
    "c.show()\n",
    "c.bmi(40,20)\n",
    "\n"
   ]
  },
  {
   "cell_type": "markdown",
   "metadata": {},
   "source": [
    "## @classmethod"
   ]
  },
  {
   "cell_type": "code",
   "execution_count": 13,
   "metadata": {},
   "outputs": [
    {
     "name": "stdout",
     "output_type": "stream",
     "text": [
      "40\n",
      "20\n"
     ]
    }
   ],
   "source": [
    "class CoeffVar:\n",
    "    coefficient = 10\n",
    "\n",
    "    @classmethod  # 將方法mul指定為類別方法\n",
    "    def mul(cls, fact):  # 第1引數為cls\n",
    "        return cls.coefficient * fact\n",
    "\n",
    "\n",
    "# 定義繼承類別Coeffvar的類別MulFive\n",
    "class MulFive(CoeffVar):\n",
    "    coefficient = 5\n",
    "    pass\n",
    "\n",
    "\n",
    "x=CoeffVar.mul(4)\n",
    "print(x)\n",
    "x = MulFive.mul(4)  # CoeffVar.mul(MulFive, 4) -> 20\n",
    "#print(MulFive.coefficient)\n",
    "print(x)\n"
   ]
  },
  {
   "cell_type": "markdown",
   "metadata": {},
   "source": [
    "## 小心命名空間\n"
   ]
  },
  {
   "cell_type": "markdown",
   "metadata": {},
   "source": [
    "## object variable x is initiazized from class variable x "
   ]
  },
  {
   "cell_type": "code",
   "execution_count": 14,
   "metadata": {},
   "outputs": [
    {
     "name": "stdout",
     "output_type": "stream",
     "text": [
      "105\n",
      "115\n",
      "125\n"
     ]
    }
   ],
   "source": [
    "x = 100\n",
    "class DemoClass:\n",
    "    x = 3  # 生成x所屬的命名空間\n",
    "\n",
    "    def __init__(self, y):\n",
    "        #self.x=MyClass.x #object variable x is initiazized from class variable x \n",
    "        self.x=x       #object variable x is initiazized from global x \n",
    "        self.x += y      #若是計算, 變數必須要設定初值, object variable x 初值未定時,來自class variable x\n",
    "        \n",
    "\n",
    "    def my_add(self, z):\n",
    "        global x\n",
    "        x = x + z  # 錯誤： x的scope並未被生成\n",
    "        print(x)\n",
    "        # 使用self.x或MyClass.x能參考 \n",
    "\n",
    "\n",
    "a = DemoClass(5)\n",
    "print(a.x)\n",
    "b = DemoClass(15)\n",
    "print(b.x)\n",
    "c = DemoClass(25)\n",
    "print(c.x)\n",
    "\n",
    "    \n",
    "\n",
    "    "
   ]
  },
  {
   "cell_type": "code",
   "execution_count": 15,
   "metadata": {},
   "outputs": [
    {
     "name": "stdout",
     "output_type": "stream",
     "text": [
      "110\n"
     ]
    }
   ],
   "source": [
    "a.my_add(10)\n"
   ]
  },
  {
   "cell_type": "code",
   "execution_count": 16,
   "metadata": {},
   "outputs": [
    {
     "name": "stdout",
     "output_type": "stream",
     "text": [
      "xx =  104\n",
      "price y = 1000\n",
      "price z = 1020\n",
      "(a.i, b.i) = (20, 20)\n",
      "(a.i, b.i) = (20, 20)\n"
     ]
    }
   ],
   "source": [
    "x = 100\n",
    "class Demo:\n",
    "\n",
    "    i = 10 \n",
    "    x += 2  #102\n",
    "    xx = x + 2  #104\n",
    "    print('xx = ', xx)\n",
    "    def price(self):\n",
    "        y = self.i * x  # 參考全域命名空間裡的物件x\n",
    "        z = self.i * self.x  #依實例屬性→類別屬性的順序來搜尋並參考\n",
    "        # z = i * x  #這裡會發生錯誤（在此無法看到資料i）MyClass.i\n",
    "        print(\"price y = %d\" % y)\n",
    "        print(\"price z = %d\" % z)\n",
    "\n",
    "    def shop(self):\n",
    "        self.price()  # 這個方式OK\n",
    "        Demo.i = 20  #變更類別的資料\n",
    "\n",
    "\n",
    "\n",
    "#用來確認動作的程式碼\n",
    "\n",
    "a = Demo()\n",
    "b = Demo()\n",
    "a.shop() # 當中會執行 MyClass.i = 20\n",
    "print('(a.i, b.i) = ({}, {})'.format(a.i, b.i))\n",
    "\n",
    "\n",
    "#a.i = 2  # 設定實例屬性\n",
    "#Demo.i = 4  # 變更類別屬性\n",
    "print('(a.i, b.i) = ({}, {})'.format(a.i, b.i))\n"
   ]
  },
  {
   "cell_type": "markdown",
   "metadata": {},
   "source": [
    "## OO for Queue"
   ]
  },
  {
   "cell_type": "code",
   "execution_count": 17,
   "metadata": {},
   "outputs": [],
   "source": [
    "class Queue:\n",
    "    def __init__(self):\n",
    "        self.items = []\n",
    "\n",
    "    def isEmpty(self):\n",
    "        return self.items == []\n",
    "\n",
    "    def enqueue(self, item):\n",
    "        self.items.insert(0,item)\n",
    "\n",
    "    def dequeue(self):\n",
    "        return self.items.pop()\n",
    "\n",
    "    def size(self):\n",
    "        return len(self.items)\n",
    "    \n",
    "    def show(self):\n",
    "        print(self.items)"
   ]
  },
  {
   "cell_type": "code",
   "execution_count": 18,
   "metadata": {},
   "outputs": [
    {
     "name": "stdout",
     "output_type": "stream",
     "text": [
      "[15, 10, 10]\n",
      "[15, 10]\n"
     ]
    }
   ],
   "source": [
    "q1=Queue()\n",
    "\n",
    "q1.enqueue(10)\n",
    "q1.enqueue(10)\n",
    "q1.enqueue(15)\n",
    "q1.show()\n",
    "a=q1.dequeue()\n",
    "q1.show()"
   ]
  },
  {
   "cell_type": "code",
   "execution_count": null,
   "metadata": {},
   "outputs": [],
   "source": []
  }
 ],
 "metadata": {
  "kernelspec": {
   "display_name": "Python 3",
   "language": "python",
   "name": "python3"
  },
  "language_info": {
   "codemirror_mode": {
    "name": "ipython",
    "version": 3
   },
   "file_extension": ".py",
   "mimetype": "text/x-python",
   "name": "python",
   "nbconvert_exporter": "python",
   "pygments_lexer": "ipython3",
   "version": "3.8.5"
  }
 },
 "nbformat": 4,
 "nbformat_minor": 2
}
